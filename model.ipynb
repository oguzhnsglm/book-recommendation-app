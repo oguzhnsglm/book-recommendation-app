{
  "cells": [
    {
      "cell_type": "code",
      "execution_count": 9,
      "metadata": {
        "id": "fF0AKznQaNuW"
      },
      "outputs": [],
      "source": [
        "import pandas as pd\n",
        "import re\n",
        "from sentence_transformers import SentenceTransformer\n",
        "from sklearn.metrics.pairwise import cosine_similarity\n",
        "import torch\n",
        "import os"
      ]
    },
    {
      "cell_type": "code",
      "execution_count": 10,
      "metadata": {
        "id": "rwnv05MWaSbE"
      },
      "outputs": [],
      "source": [
        "# 🔧 Metin temizleme fonksiyonu\n",
        "def preprocess_text(text):\n",
        "    text = text.lower()\n",
        "    text = re.sub(r'\\d+', '', text)\n",
        "    text = re.sub(r'[^\\w\\s]', '', text)\n",
        "    return text"
      ]
    },
    {
      "cell_type": "code",
      "execution_count": 11,
      "metadata": {
        "id": "mQoQOGB0agyZ"
      },
      "outputs": [],
      "source": [
        "# 📄 Veri yükle\n",
        "df = pd.read_csv(\"books.csv\")\n",
        "df.columns = df.columns.str.strip()\n",
        "df[\"Summary\"] = df[\"Summary\"].fillna(\"\")\n",
        "df[\"Author\"] = df[\"Author\"].fillna(\"Unknown\")"
      ]
    },
    {
      "cell_type": "code",
      "execution_count": 12,
      "metadata": {
        "id": "5Gc7AwBfajmM"
      },
      "outputs": [],
      "source": [
        "# 🧹 Özetleri temizle\n",
        "df[\"Cleaned_Summary\"] = df[\"Summary\"].apply(preprocess_text)"
      ]
    },
    {
      "cell_type": "code",
      "execution_count": 13,
      "metadata": {},
      "outputs": [],
      "source": [
        "# 'Vote Count' sütunundaki sayıları temizle\n",
        "df['Vote Count'] = df['Vote Count'].str.replace(',', '').str.extract(r'(\\d+)').astype(float)\n",
        "\n",
        "# 5000'den fazla oy alanları filtrele\n",
        "df_filtered = df[df['Vote Count'] > 5000]"
      ]
    },
    {
      "cell_type": "code",
      "execution_count": 14,
      "metadata": {
        "colab": {
          "base_uri": "https://localhost:8080/",
          "height": 181,
          "referenced_widgets": [
            "a7d4072d9c68487fb343a66db4992fc3",
            "53a0fbf966564ba082c396c462e27171",
            "08c44508c7174c6e82a77613234355df",
            "a7a52b39e03f480eac2c5e3701530d12",
            "887abef9e4194e6e8e057816bd10dfd0",
            "f900fbabc9a049f8abbed6f566bf7e48",
            "00f83b27ffbb4f93983fb49cf7a0e399",
            "7e58c80a45514e638cc56c4f069e62a5",
            "4eae2d483b834eaa9bf43476023eda3f",
            "50e180cf3592402996f9bb1e8dfc68ef",
            "5f21f2a801d54335bc8ee5a1ffebd068"
          ]
        },
        "id": "g3fUBqHAaoa0",
        "outputId": "d024b17d-b3bb-468b-e51b-18767de07fb5"
      },
      "outputs": [],
      "source": [
        "# 💬 BERT modeli yükle\n",
        "model = SentenceTransformer('paraphrase-MiniLM-L6-v2')"
      ]
    },
    {
      "cell_type": "code",
      "execution_count": 24,
      "metadata": {
        "id": "N8-Cez8LaqHE"
      },
      "outputs": [
        {
          "name": "stdout",
          "output_type": "stream",
          "text": [
            "Embedding dosyası bulundu, yükleniyor...\n"
          ]
        },
        {
          "name": "stderr",
          "output_type": "stream",
          "text": [
            "C:\\Users\\sagla\\AppData\\Local\\Temp\\ipykernel_8144\\2871050199.py:4: FutureWarning: You are using `torch.load` with `weights_only=False` (the current default value), which uses the default pickle module implicitly. It is possible to construct malicious pickle data which will execute arbitrary code during unpickling (See https://github.com/pytorch/pytorch/blob/main/SECURITY.md#untrusted-models for more details). In a future release, the default value for `weights_only` will be flipped to `True`. This limits the functions that could be executed during unpickling. Arbitrary objects will no longer be allowed to be loaded via this mode unless they are explicitly allowlisted by the user via `torch.serialization.add_safe_globals`. We recommend you start setting `weights_only=True` for any use case where you don't have full control of the loaded file. Please open an issue on GitHub for any issues related to this experimental feature.\n",
            "  embeddings = torch.load(\"embeddings.pt\")\n"
          ]
        }
      ],
      "source": [
        "# 🔹 Eğer daha önce kaydedilmiş embedding varsa onu yükle\n",
        "if os.path.exists(\"embeddings.pt\"):\n",
        "    print(\"Embedding dosyası bulundu, yükleniyor...\")\n",
        "    embeddings = torch.load(\"embeddings.pt\")\n",
        "else:\n",
        "    print(\"Embedding hesaplanıyor ve kaydediliyor...\")\n",
        "    embeddings = model.encode(df[\"Cleaned_Summary\"].tolist(), convert_to_tensor=True)\n",
        "    torch.save(embeddings, \"embeddings.pt\")"
      ]
    },
    {
      "cell_type": "code",
      "execution_count": 25,
      "metadata": {
        "id": "Anu4ZPTSay8R"
      },
      "outputs": [],
      "source": [
        "# 📐 Kosinüs benzerliğini hesapla\n",
        "cosine_sim = cosine_similarity(embeddings.cpu(), embeddings.cpu())"
      ]
    },
    {
      "cell_type": "code",
      "execution_count": 26,
      "metadata": {
        "id": "nMM9cHzxc6Eg"
      },
      "outputs": [],
      "source": [
        "# 🔍 Kitap indeksleri\n",
        "indices = pd.Series(df.index, index=df[\"Book Name\"].str.lower())"
      ]
    },
    {
      "cell_type": "code",
      "execution_count": 27,
      "metadata": {
        "id": "rriECNJkdC1T"
      },
      "outputs": [],
      "source": [
        "# ✅ Öneri fonksiyonu\n",
        "def öneri_al(kitap_adi, n=10):\n",
        "    kitap_adi = kitap_adi.lower()\n",
        "    if kitap_adi not in indices:\n",
        "        print(\"❌ Bu kitap veri setinde bulunamadı.\")\n",
        "        return pd.DataFrame()\n",
        "\n",
        "    idx = indices[kitap_adi]\n",
        "    benzerlik_skorlari = list(enumerate(cosine_sim[idx]))\n",
        "    benzerlik_skorlari = sorted(benzerlik_skorlari, key=lambda x: x[1], reverse=True)\n",
        "    benzerlik_skorlari = benzerlik_skorlari[1:n+1]\n",
        "\n",
        "    kitap_indexleri = [i[0] for i in benzerlik_skorlari]\n",
        "    skorlar = [i[1] for i in benzerlik_skorlari]\n",
        "\n",
        "    önerilenler = df.iloc[kitap_indexleri][[\"Book Name\", \"Author\", \"Genre\", \"Rating\"]].copy()\n",
        "    önerilenler[\"Benzerlik Skoru\"] = skorlar\n",
        "    return önerilenler\n"
      ]
    },
    {
      "cell_type": "code",
      "execution_count": 28,
      "metadata": {
        "colab": {
          "base_uri": "https://localhost:8080/"
        },
        "id": "fw1Ek0YGdFbj",
        "outputId": "b68f17b0-4c4a-44ef-dc39-441f56ddfb41"
      },
      "outputs": [
        {
          "name": "stdout",
          "output_type": "stream",
          "text": [
            "\n",
            "📚 Anlamsal olarak en benzer 10 kitap:\n",
            "            Book Name             Author       Genre Rating  Benzerlik Skoru\n",
            "     The Angel's Game  Carlos Ruiz Zafón     Fiction   4.01         0.607879\n",
            "          Cloud Atlas     David Mitchell     Fiction   4.01         0.598154\n",
            "         Loving Women        Pete Hamill     Fiction   3.84         0.587004\n",
            "         East of Eden     John Steinbeck     Fiction   4.42         0.585640\n",
            "     Jackboot Britain Daniel S. Fletcher     Fiction   3.63         0.577843\n",
            "The Constant Gardener      John Le Carré     Fiction   3.83         0.575078\n",
            " A Dance Through Time       Lynn Kurland Time Travel   4.16         0.568214\n",
            "Last Exit to Brooklyn   Hubert Selby Jr.     Fiction   3.92         0.567633\n",
            "Armageddon's Children       Terry Brooks     Fantasy   4.11         0.563481\n",
            "              Revival       Stephen King      Horror    3.8         0.562574\n"
          ]
        }
      ],
      "source": [
        "# 🧪 Kullanıcıdan kitap al ve önerileri yazdır\n",
        "kitap = input(\"Bir kitap adı girin: \")\n",
        "öneriler = öneri_al(kitap)\n",
        "if not öneriler.empty:\n",
        "    print(\"\\n📚 Anlamsal olarak en benzer 10 kitap:\")\n",
        "    print(öneriler.to_string(index=False))"
      ]
    },
    {
      "cell_type": "code",
      "execution_count": null,
      "metadata": {},
      "outputs": [],
      "source": []
    }
  ],
  "metadata": {
    "colab": {
      "provenance": []
    },
    "kernelspec": {
      "display_name": "Python 3",
      "language": "python",
      "name": "python3"
    },
    "language_info": {
      "codemirror_mode": {
        "name": "ipython",
        "version": 3
      },
      "file_extension": ".py",
      "mimetype": "text/x-python",
      "name": "python",
      "nbconvert_exporter": "python",
      "pygments_lexer": "ipython3",
      "version": "3.9.10"
    },
    "widgets": {
      "application/vnd.jupyter.widget-state+json": {
        "00f83b27ffbb4f93983fb49cf7a0e399": {
          "model_module": "@jupyter-widgets/controls",
          "model_module_version": "1.5.0",
          "model_name": "HBoxModel",
          "state": {
            "_dom_classes": [],
            "_model_module": "@jupyter-widgets/controls",
            "_model_module_version": "1.5.0",
            "_model_name": "HBoxModel",
            "_view_count": null,
            "_view_module": "@jupyter-widgets/controls",
            "_view_module_version": "1.5.0",
            "_view_name": "HBoxView",
            "box_style": "",
            "children": [
              "IPY_MODEL_5dfbe9b6572a4df888567849468d2c49",
              "IPY_MODEL_7ba29e08d172453991c8d858a4980993",
              "IPY_MODEL_e6baf53434354b5a8918067ff7c50891"
            ],
            "layout": "IPY_MODEL_310cde60615c45da8f49cdbc2b54bfe4"
          }
        },
        "08c44508c7174c6e82a77613234355df": {
          "model_module": "@jupyter-widgets/controls",
          "model_module_version": "1.5.0",
          "model_name": "HBoxModel",
          "state": {
            "_dom_classes": [],
            "_model_module": "@jupyter-widgets/controls",
            "_model_module_version": "1.5.0",
            "_model_name": "HBoxModel",
            "_view_count": null,
            "_view_module": "@jupyter-widgets/controls",
            "_view_module_version": "1.5.0",
            "_view_name": "HBoxView",
            "box_style": "",
            "children": [
              "IPY_MODEL_1cbfeca307284a57a296f10120c0f1b3",
              "IPY_MODEL_4678e54d8c6d48f184d958e96bed2734",
              "IPY_MODEL_738a8030d1f1486ea8258cb8d9ec728b"
            ],
            "layout": "IPY_MODEL_25af3e07fc9e424d95132099a678e53c"
          }
        },
        "4eae2d483b834eaa9bf43476023eda3f": {
          "model_module": "@jupyter-widgets/controls",
          "model_module_version": "1.5.0",
          "model_name": "HBoxModel",
          "state": {
            "_dom_classes": [],
            "_model_module": "@jupyter-widgets/controls",
            "_model_module_version": "1.5.0",
            "_model_name": "HBoxModel",
            "_view_count": null,
            "_view_module": "@jupyter-widgets/controls",
            "_view_module_version": "1.5.0",
            "_view_name": "HBoxView",
            "box_style": "",
            "children": [
              "IPY_MODEL_5eae892937fa49b8bb650194d97861a9",
              "IPY_MODEL_a4431a36d46a4ef2a6d0eb3a6ea7989f",
              "IPY_MODEL_c493dfadcd1648e39d29a197745a32ae"
            ],
            "layout": "IPY_MODEL_b23df11f91e24298817e6f8949bb6c00"
          }
        },
        "50e180cf3592402996f9bb1e8dfc68ef": {
          "model_module": "@jupyter-widgets/controls",
          "model_module_version": "1.5.0",
          "model_name": "HBoxModel",
          "state": {
            "_dom_classes": [],
            "_model_module": "@jupyter-widgets/controls",
            "_model_module_version": "1.5.0",
            "_model_name": "HBoxModel",
            "_view_count": null,
            "_view_module": "@jupyter-widgets/controls",
            "_view_module_version": "1.5.0",
            "_view_name": "HBoxView",
            "box_style": "",
            "children": [
              "IPY_MODEL_a21b6e398628468a9c104cae60615cef",
              "IPY_MODEL_2099aa44203a4703b5d8b6b0d0c98747",
              "IPY_MODEL_ff305369d43a4c9e983eedb040c067de"
            ],
            "layout": "IPY_MODEL_2e28976944dd4fcf8b4684e951669209"
          }
        },
        "53a0fbf966564ba082c396c462e27171": {
          "model_module": "@jupyter-widgets/controls",
          "model_module_version": "1.5.0",
          "model_name": "HBoxModel",
          "state": {
            "_dom_classes": [],
            "_model_module": "@jupyter-widgets/controls",
            "_model_module_version": "1.5.0",
            "_model_name": "HBoxModel",
            "_view_count": null,
            "_view_module": "@jupyter-widgets/controls",
            "_view_module_version": "1.5.0",
            "_view_name": "HBoxView",
            "box_style": "",
            "children": [
              "IPY_MODEL_7ec8018c49264e9f94542be1c65bc87e",
              "IPY_MODEL_4717ba7a023f4739b39ebb0090518f39",
              "IPY_MODEL_7c440f10150343239649eea546730ce0"
            ],
            "layout": "IPY_MODEL_f613e9ee22e049f1ba37ee7c7a60d442"
          }
        },
        "5f21f2a801d54335bc8ee5a1ffebd068": {
          "model_module": "@jupyter-widgets/controls",
          "model_module_version": "1.5.0",
          "model_name": "HBoxModel",
          "state": {
            "_dom_classes": [],
            "_model_module": "@jupyter-widgets/controls",
            "_model_module_version": "1.5.0",
            "_model_name": "HBoxModel",
            "_view_count": null,
            "_view_module": "@jupyter-widgets/controls",
            "_view_module_version": "1.5.0",
            "_view_name": "HBoxView",
            "box_style": "",
            "children": [
              "IPY_MODEL_c766a84b0fc14ee89424f404d635d813",
              "IPY_MODEL_d133a211a4df4baaa3362e1b3c5d2879",
              "IPY_MODEL_8c0954863ad2409aac1b9696fec9ac7b"
            ],
            "layout": "IPY_MODEL_28609febfc3d4bffb0e7f41a144e0c2e"
          }
        },
        "7e58c80a45514e638cc56c4f069e62a5": {
          "model_module": "@jupyter-widgets/controls",
          "model_module_version": "1.5.0",
          "model_name": "HBoxModel",
          "state": {
            "_dom_classes": [],
            "_model_module": "@jupyter-widgets/controls",
            "_model_module_version": "1.5.0",
            "_model_name": "HBoxModel",
            "_view_count": null,
            "_view_module": "@jupyter-widgets/controls",
            "_view_module_version": "1.5.0",
            "_view_name": "HBoxView",
            "box_style": "",
            "children": [
              "IPY_MODEL_2afeb1b384b24ed68c400c3b18d21832",
              "IPY_MODEL_6eaff4eff1314f02a4c207c2c7f9bbda",
              "IPY_MODEL_7ddedff7dfc4436baefbf04ee9d39af5"
            ],
            "layout": "IPY_MODEL_047e7bed78e644c0afc76ea1216a8c42"
          }
        },
        "887abef9e4194e6e8e057816bd10dfd0": {
          "model_module": "@jupyter-widgets/controls",
          "model_module_version": "1.5.0",
          "model_name": "HBoxModel",
          "state": {
            "_dom_classes": [],
            "_model_module": "@jupyter-widgets/controls",
            "_model_module_version": "1.5.0",
            "_model_name": "HBoxModel",
            "_view_count": null,
            "_view_module": "@jupyter-widgets/controls",
            "_view_module_version": "1.5.0",
            "_view_name": "HBoxView",
            "box_style": "",
            "children": [
              "IPY_MODEL_0bffd1b017c841baada2de31a0050806",
              "IPY_MODEL_46a84d4558c14d979dc737306e525aa6",
              "IPY_MODEL_fbd4283c391842eba60e928852086d27"
            ],
            "layout": "IPY_MODEL_9cf533a643e14ed0aab498faf6670520"
          }
        },
        "a7a52b39e03f480eac2c5e3701530d12": {
          "model_module": "@jupyter-widgets/controls",
          "model_module_version": "1.5.0",
          "model_name": "HBoxModel",
          "state": {
            "_dom_classes": [],
            "_model_module": "@jupyter-widgets/controls",
            "_model_module_version": "1.5.0",
            "_model_name": "HBoxModel",
            "_view_count": null,
            "_view_module": "@jupyter-widgets/controls",
            "_view_module_version": "1.5.0",
            "_view_name": "HBoxView",
            "box_style": "",
            "children": [
              "IPY_MODEL_bded13f1b31b41be923e278cb8352087",
              "IPY_MODEL_a7faa94503534ff6af5f74379fe467b0",
              "IPY_MODEL_d84f25f775b34ad8bbafebb9b4cd24c9"
            ],
            "layout": "IPY_MODEL_881dad4aee3b4dfca000884cf97b0fab"
          }
        },
        "a7d4072d9c68487fb343a66db4992fc3": {
          "model_module": "@jupyter-widgets/controls",
          "model_module_version": "1.5.0",
          "model_name": "HBoxModel",
          "state": {
            "_dom_classes": [],
            "_model_module": "@jupyter-widgets/controls",
            "_model_module_version": "1.5.0",
            "_model_name": "HBoxModel",
            "_view_count": null,
            "_view_module": "@jupyter-widgets/controls",
            "_view_module_version": "1.5.0",
            "_view_name": "HBoxView",
            "box_style": "",
            "children": [
              "IPY_MODEL_67d9554552fc4641995316dc9407c53e",
              "IPY_MODEL_a5f0ded611b84948bb4f3da3334612fe",
              "IPY_MODEL_cd0b6aeaa60f43d09434416916923348"
            ],
            "layout": "IPY_MODEL_f38c1ebd4e034615a0ae2186b207384b"
          }
        },
        "f900fbabc9a049f8abbed6f566bf7e48": {
          "model_module": "@jupyter-widgets/controls",
          "model_module_version": "1.5.0",
          "model_name": "HBoxModel",
          "state": {
            "_dom_classes": [],
            "_model_module": "@jupyter-widgets/controls",
            "_model_module_version": "1.5.0",
            "_model_name": "HBoxModel",
            "_view_count": null,
            "_view_module": "@jupyter-widgets/controls",
            "_view_module_version": "1.5.0",
            "_view_name": "HBoxView",
            "box_style": "",
            "children": [
              "IPY_MODEL_7951318775d24806bd9a05259a4102ba",
              "IPY_MODEL_83319cf4916844dbaa29c43e293c69f3",
              "IPY_MODEL_0cf9b353d14b463793d42eb266618a9c"
            ],
            "layout": "IPY_MODEL_0d8604d9fb25458397a2a1881001842a"
          }
        }
      }
    }
  },
  "nbformat": 4,
  "nbformat_minor": 0
}
